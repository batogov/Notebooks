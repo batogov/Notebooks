{
 "cells": [
  {
   "cell_type": "markdown",
   "metadata": {},
   "source": [
    "# Численные методы"
   ]
  },
  {
   "cell_type": "markdown",
   "metadata": {},
   "source": [
    "## Метод Ньютона (метод касательных)"
   ]
  },
  {
   "cell_type": "markdown",
   "metadata": {},
   "source": [
    "На каждом шаге вычисляем $x_n$ по следующей формуле:"
   ]
  },
  {
   "cell_type": "markdown",
   "metadata": {},
   "source": [
    "$x_{n+1}=x_n-\\frac{f(x_n)}{f'(x_n)} $"
   ]
  },
  {
   "cell_type": "markdown",
   "metadata": {},
   "source": [
    "Критерий останова:"
   ]
  },
  {
   "cell_type": "markdown",
   "metadata": {},
   "source": [
    "$\\left|x_{x+1}-x_n\\right|<\\varepsilon$, т.е. изменение $x$ в результате итерации стало меньше заданого $\\varepsilon$."
   ]
  },
  {
   "cell_type": "code",
   "execution_count": 1,
   "metadata": {
    "collapsed": true
   },
   "outputs": [],
   "source": [
    "def diff(f, x, h=1E-10):\n",
    "    return (f(x + h) - f(x))/h"
   ]
  },
  {
   "cell_type": "code",
   "execution_count": 2,
   "metadata": {
    "collapsed": true
   },
   "outputs": [],
   "source": [
    "def newton(func, x0, e, check = False):\n",
    "    n_iter = 0\n",
    "    x = x0\n",
    "    while True:\n",
    "        new_x = x - (func(x)/diff(func, x))\n",
    "        \n",
    "        if check:\n",
    "            n_iter += 1\n",
    "            print 'Iteration {}: x = {}, new_x = {}'.format(n_iter, x, new_x)\n",
    "        \n",
    "        if abs(new_x - x) < e:\n",
    "            break\n",
    "        x = new_x\n",
    "        \n",
    "    print 'Result:', new_x"
   ]
  },
  {
   "cell_type": "code",
   "execution_count": 3,
   "metadata": {
    "collapsed": true
   },
   "outputs": [],
   "source": [
    "def func(x):\n",
    "    return x ** 2 - 2"
   ]
  },
  {
   "cell_type": "code",
   "execution_count": 4,
   "metadata": {
    "collapsed": false
   },
   "outputs": [
    {
     "name": "stdout",
     "output_type": "stream",
     "text": [
      "Iteration 1: x = 1, new_x = 1.49999995863\n",
      "Iteration 2: x = 1.49999995863, new_x = 1.41666667356\n",
      "Iteration 3: x = 1.41666667356, new_x = 1.41421568648\n",
      "Iteration 4: x = 1.41421568648, new_x = 1.41421356237\n",
      "Result: 1.41421356237\n"
     ]
    }
   ],
   "source": [
    "newton(func, 1, 0.001, True)"
   ]
  }
 ],
 "metadata": {
  "kernelspec": {
   "display_name": "Python 3",
   "language": "python",
   "name": "python3"
  },
  "language_info": {
   "codemirror_mode": {
    "name": "ipython",
    "version": 3
   },
   "file_extension": ".py",
   "mimetype": "text/x-python",
   "name": "python",
   "nbconvert_exporter": "python",
   "pygments_lexer": "ipython3",
   "version": "3.6.0"
  }
 },
 "nbformat": 4,
 "nbformat_minor": 0
}
