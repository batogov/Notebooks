{
 "cells": [
  {
   "cell_type": "markdown",
   "metadata": {},
   "source": [
    "# Методы генерации случайных чисел"
   ]
  },
  {
   "cell_type": "markdown",
   "metadata": {},
   "source": [
    "## Теоретическая часть"
   ]
  },
  {
   "cell_type": "markdown",
   "metadata": {},
   "source": [
    "В данном ноутбуке реализованы и проверены четыре метода генерации случаных чисел: метод серединных квадратов, метод серединных произведений, метод перемешивания и линейный конгруэнтный метод."
   ]
  },
  {
   "cell_type": "markdown",
   "metadata": {},
   "source": [
    "Случайная последовательность, порождаемая генератором случаных чисел (ГСЧ), должна удовлетворять целому ряду критериев, поэтому любой алгоритм генерации случаных чисел должен быть тщательно проверен."
   ]
  },
  {
   "cell_type": "markdown",
   "metadata": {},
   "source": [
    "Осуществляемые проверки бывают двух типов:\n",
    "\n",
    "* Проверки на равномерность распределения;\n",
    "* Проверки на статистическую независимость."
   ]
  },
  {
   "cell_type": "markdown",
   "metadata": {},
   "source": [
    "### Проверки на равномерность распределения"
   ]
  },
  {
   "cell_type": "markdown",
   "metadata": {},
   "source": [
    "Проверкой на равномерность распределения будут являться вычисление значения статистических параметров (математическое ожидание и дисперсия), а также проверка по критерию хи-квадрат."
   ]
  },
  {
   "cell_type": "markdown",
   "metadata": {},
   "source": [
    "Cтатистических параметры эталонного ГСЧ для провеки его на равномерность распределения:\n",
    "    \n",
    "* $m \\approx 0.5$\n",
    "* $D \\approx 0.0833$"
   ]
  },
  {
   "cell_type": "markdown",
   "metadata": {},
   "source": [
    "Критерий хи-квадрат позволяет узнать, насколько созданный реальный ГСЧ близок к эталону ГСЧ. Значение критерия хи-квадрат зависит от числа степеней свободы (размер выборки сгенерированных случайных чисел минус единица). Считается, что генератор случайных чисел удовлетворяет требованию равномерного распределения (т.е. близок к эталону ГСЧ), если критерий хи-квадрат находится в диапазоне между 25% и 50% процентилями $χ^2$-распределения для данного числа степеней свободы."
   ]
  },
  {
   "cell_type": "markdown",
   "metadata": {},
   "source": [
    "В этой работе размер всех выборок сгенерированных случайных чисел равен 10000. Для удобства сравнения ниже рассчитано значение критерия хи-квадрат для 50% процентили:"
   ]
  },
  {
   "cell_type": "code",
   "execution_count": 1,
   "metadata": {
    "collapsed": false
   },
   "outputs": [
    {
     "data": {
      "text/plain": [
       "999998.33333341242"
      ]
     },
     "execution_count": 1,
     "metadata": {},
     "output_type": "execute_result"
    }
   ],
   "source": [
    "n = 1000000\n",
    "from scipy.stats import chi2\n",
    "chi2.ppf(0.5, n - 1)"
   ]
  },
  {
   "cell_type": "markdown",
   "metadata": {},
   "source": [
    "### Проверки на статистическую независимость"
   ]
  },
  {
   "cell_type": "markdown",
   "metadata": {},
   "source": [
    "Проверки на статистическую независимость не менее важны при оценивании качества работы ГСЧ. Такая проверка обычно влючает в себя анализ частоты появления отдельной цифры и анализ появления серий из одинаковых цифр в последовательности."
   ]
  },
  {
   "cell_type": "markdown",
   "metadata": {},
   "source": [
    "Понятно, что теоретическая вероятность $p_i$ выпадения $i$-ой цифры (от 0 до 9) равна 0.1. Другими словами – цифры в случаных числах также должны быть распределены равномерно."
   ]
  },
  {
   "cell_type": "markdown",
   "metadata": {},
   "source": [
    "С сериями из одинаковым цифр тоже всё просто. Теоретическая вероятность появления серии длиной в один символ $p_1$ = 1, в два символа $p_2$ = 0.1, в три символа $p_3$ = 0.01, и так далее."
   ]
  },
  {
   "cell_type": "markdown",
   "metadata": {},
   "source": [
    "## Реализация"
   ]
  },
  {
   "cell_type": "code",
   "execution_count": 2,
   "metadata": {
    "collapsed": false
   },
   "outputs": [],
   "source": [
    "import numpy as np\n",
    "from collections import Counter\n",
    "import seaborn as sb\n",
    "from scipy.stats import chisquare\n",
    "import matplotlib.pyplot as plt\n",
    "%matplotlib inline"
   ]
  },
  {
   "cell_type": "code",
   "execution_count": 3,
   "metadata": {
    "collapsed": true
   },
   "outputs": [],
   "source": [
    "def get_middle_part(num, length):\n",
    "    '''\n",
    "    Возвращает число длины length из середины исходного числа num\n",
    "    '''\n",
    "    middle_idx = len(str(num)) // 2\n",
    "    num_as_str = str(num)\n",
    "    \n",
    "    left_bound = middle_idx - (length // 2)\n",
    "    right_bound = middle_idx + (length // 2)\n",
    "    \n",
    "    return int(num_as_str[left_bound : right_bound])"
   ]
  },
  {
   "cell_type": "code",
   "execution_count": 4,
   "metadata": {
    "collapsed": true
   },
   "outputs": [],
   "source": [
    "def make_random_num(num):\n",
    "    '''\n",
    "    Получает на вход число вида 12345 и возвращает 0.12345\n",
    "    '''\n",
    "    return float('0.' + str(num))"
   ]
  },
  {
   "cell_type": "code",
   "execution_count": 5,
   "metadata": {
    "collapsed": true
   },
   "outputs": [],
   "source": [
    "def exp_to_int(num):\n",
    "    '''\n",
    "    Получает число в экспоненциальной форме и возвращает int число без\n",
    "    первой цифры\n",
    "    '''\n",
    "    return int(str(int(num))[1:])"
   ]
  },
  {
   "cell_type": "code",
   "execution_count": 6,
   "metadata": {
    "collapsed": true
   },
   "outputs": [],
   "source": [
    "def shift(num, direction):\n",
    "    '''\n",
    "    Функция сдвигает число влево (direction == 'l') или\n",
    "    вправо (direction == 'r') на длину числа / 4\n",
    "    '''\n",
    "    num_as_str = str(num)\n",
    "    count = len(num_as_str) // 4\n",
    "    if direction == 'l':\n",
    "        return int(num_as_str[count:] + num_as_str[:count])\n",
    "    elif direction == 'r':\n",
    "        return int(num_as_str[-count:] + num_as_str[:-count])"
   ]
  },
  {
   "cell_type": "code",
   "execution_count": 7,
   "metadata": {
    "collapsed": true
   },
   "outputs": [],
   "source": [
    "def count_digits(random_list):\n",
    "    digits = dict()\n",
    "    for number in random_list:\n",
    "        number = str(number)[2:]\n",
    "        for digit in number:\n",
    "            if digit not in digits:\n",
    "                digits[digit] = 1\n",
    "            else:\n",
    "                digits[digit] += 1\n",
    "    return digits"
   ]
  },
  {
   "cell_type": "code",
   "execution_count": 8,
   "metadata": {
    "collapsed": true
   },
   "outputs": [],
   "source": [
    "def count_sequences(random_list, digit, count):\n",
    "    n = 0\n",
    "    for number in random_list:\n",
    "        number = str(number)[2:]\n",
    "        for i in range(len(number)):\n",
    "            if i + count <= len(number):\n",
    "                curr_slice = number[i : i + count]\n",
    "                if curr_slice.count(str(digit)) == count:\n",
    "                    n += 1\n",
    "    return n"
   ]
  },
  {
   "cell_type": "markdown",
   "metadata": {},
   "source": [
    "### Метод серединных квадратов"
   ]
  },
  {
   "cell_type": "code",
   "execution_count": 9,
   "metadata": {
    "collapsed": false
   },
   "outputs": [],
   "source": [
    "random_list = []\n",
    "\n",
    "R_prev = 91375092748365913858645307501535\n",
    "length = len(str(R_prev))\n",
    "\n",
    "for i in range(n):\n",
    "    R = get_middle_part(R_prev ** 2, length)\n",
    "    random_list.append(make_random_num(R))\n",
    "    R_prev = R"
   ]
  },
  {
   "cell_type": "code",
   "execution_count": 10,
   "metadata": {
    "collapsed": false
   },
   "outputs": [
    {
     "data": {
      "image/png": "[encoded data removed]",
      "text/plain": [
       "<matplotlib.figure.Figure at 0x1091c1c88>"
      ]
     },
     "metadata": {},
     "output_type": "display_data"
    }
   ],
   "source": [
    "hist = plt.hist(random_list)"
   ]
  },
  {
   "cell_type": "code",
   "execution_count": 11,
   "metadata": {
    "collapsed": false
   },
   "outputs": [],
   "source": [
    "freqs = hist[0] / n\n",
    "true_freqs = np.array([n / 10] * 10)"
   ]
  },
  {
   "cell_type": "code",
   "execution_count": 12,
   "metadata": {
    "collapsed": false
   },
   "outputs": [
    {
     "name": "stdout",
     "output_type": "stream",
     "text": [
      "Среднее значение: 0.5500801421193879\n",
      "Дисперсия: 0.06755724487926176\n",
      "Критерий хи-квадрат: 999998.000001\n"
     ]
    }
   ],
   "source": [
    "print('Среднее значение: {}'.format(np.mean(random_list)))\n",
    "print('Дисперсия: {}'.format(np.std(random_list) ** 2))\n",
    "print('Критерий хи-квадрат: {}'.format(chisquare(freqs, true_freqs)[0]))"
   ]
  },
  {
   "cell_type": "code",
   "execution_count": 13,
   "metadata": {
    "collapsed": false
   },
   "outputs": [
    {
     "name": "stdout",
     "output_type": "stream",
     "text": [
      "Проверка на частоту появления цифр:\n"
     ]
    },
    {
     "data": {
      "text/plain": [
       "{'0': 1414910,\n",
       " '1': 1612383,\n",
       " '2': 1627356,\n",
       " '3': 1648707,\n",
       " '4': 1655843,\n",
       " '5': 1656222,\n",
       " '6': 1654507,\n",
       " '7': 1647900,\n",
       " '8': 1628495,\n",
       " '9': 1611524}"
      ]
     },
     "execution_count": 13,
     "metadata": {},
     "output_type": "execute_result"
    }
   ],
   "source": [
    "print('Проверка на частоту появления цифр:')\n",
    "count_digits(random_list)"
   ]
  },
  {
   "cell_type": "code",
   "execution_count": 14,
   "metadata": {
    "collapsed": false
   },
   "outputs": [
    {
     "name": "stdout",
     "output_type": "stream",
     "text": [
      "Вероятность встретить серию \"66\": 0.154567\n",
      "Вероятность встретить серию \"666\": 0.01413\n",
      "Вероятность встретить серию \"6666\": 0.001321\n"
     ]
    }
   ],
   "source": [
    "print('Вероятность встретить серию \"66\":', count_sequences(random_list, 6, 2) / n)\n",
    "print('Вероятность встретить серию \"666\":', count_sequences(random_list, 6, 3) / n)\n",
    "print('Вероятность встретить серию \"6666\":', count_sequences(random_list, 6, 4) / n)"
   ]
  },
  {
   "cell_type": "markdown",
   "metadata": {},
   "source": [
    "### Метод серединных произведений"
   ]
  },
  {
   "cell_type": "code",
   "execution_count": 15,
   "metadata": {
    "collapsed": true
   },
   "outputs": [],
   "source": [
    "random_list = []\n",
    "\n",
    "R_prev_1 = 91375092748365913858645307501535\n",
    "R_prev_2 = 97087051240987895344927854167826\n",
    "length = len(str(R_prev))\n",
    "\n",
    "for i in range(n):\n",
    "    R = get_middle_part(R_prev_1 * R_prev_2, length)\n",
    "    random_list.append(make_random_num(R))\n",
    "    R_prev_1 = R_prev_2\n",
    "    R_prev_2 = R"
   ]
  },
  {
   "cell_type": "code",
   "execution_count": 16,
   "metadata": {
    "collapsed": false
   },
   "outputs": [
    {
     "data": {
      "image/png": "[encoded data removed]",
      "text/plain": [
       "<matplotlib.figure.Figure at 0x10c31fe48>"
      ]
     },
     "metadata": {},
     "output_type": "display_data"
    }
   ],
   "source": [
    "hist = plt.hist(random_list)"
   ]
  },
  {
   "cell_type": "code",
   "execution_count": 17,
   "metadata": {
    "collapsed": true
   },
   "outputs": [],
   "source": [
    "freqs = hist[0] / n\n",
    "true_freqs = np.array([n / 10] * 10)"
   ]
  },
  {
   "cell_type": "code",
   "execution_count": 18,
   "metadata": {
    "collapsed": false
   },
   "outputs": [
    {
     "name": "stdout",
     "output_type": "stream",
     "text": [
      "Среднее значение: 0.5497580820797829\n",
      "Дисперсия: 0.06752619727352392\n",
      "Критерий хи-квадрат: 999998.0000010001\n"
     ]
    }
   ],
   "source": [
    "print('Среднее значение: {}'.format(np.mean(random_list)))\n",
    "print('Дисперсия: {}'.format(np.std(random_list) ** 2))\n",
    "print('Критерий хи-квадрат: {}'.format(chisquare(freqs, true_freqs)[0]))"
   ]
  },
  {
   "cell_type": "code",
   "execution_count": 19,
   "metadata": {
    "collapsed": false
   },
   "outputs": [
    {
     "name": "stdout",
     "output_type": "stream",
     "text": [
      "Проверка на частоту появления цифр:\n"
     ]
    },
    {
     "data": {
      "text/plain": [
       "{'0': 1414893,\n",
       " '1': 1611520,\n",
       " '2': 1627351,\n",
       " '3': 1649887,\n",
       " '4': 1655112,\n",
       " '5': 1655144,\n",
       " '6': 1655827,\n",
       " '7': 1646548,\n",
       " '8': 1628197,\n",
       " '9': 1612752}"
      ]
     },
     "execution_count": 19,
     "metadata": {},
     "output_type": "execute_result"
    }
   ],
   "source": [
    "print('Проверка на частоту появления цифр:')\n",
    "count_digits(random_list)"
   ]
  },
  {
   "cell_type": "code",
   "execution_count": 20,
   "metadata": {
    "collapsed": false
   },
   "outputs": [
    {
     "name": "stdout",
     "output_type": "stream",
     "text": [
      "Вероятность встретить серию \"66\": 0.155748\n",
      "Вероятность встретить серию \"666\": 0.014684\n",
      "Вероятность встретить серию \"6666\": 0.001367\n"
     ]
    }
   ],
   "source": [
    "print('Вероятность встретить серию \"66\":', count_sequences(random_list, 6, 2) / n)\n",
    "print('Вероятность встретить серию \"666\":', count_sequences(random_list, 6, 3) / n)\n",
    "print('Вероятность встретить серию \"6666\":', count_sequences(random_list, 6, 4) / n)"
   ]
  },
  {
   "cell_type": "markdown",
   "metadata": {},
   "source": [
    "### Метод перемешивания"
   ]
  },
  {
   "cell_type": "code",
   "execution_count": 21,
   "metadata": {
    "collapsed": false
   },
   "outputs": [],
   "source": [
    "random_list = []\n",
    "\n",
    "R_prev = 58549257143859061328518594680397\n",
    "length = len(str(R_prev))\n",
    "\n",
    "for i in range(n):\n",
    "    R_1 = shift(R_prev, 'l')\n",
    "    R_2 = shift(R_prev, 'r')\n",
    "    R_res = int(str(50 * (R_1 + R_2))[1:length])\n",
    "    random_list.append(make_random_num(R_res))\n",
    "    R_prev = R_res"
   ]
  },
  {
   "cell_type": "code",
   "execution_count": 22,
   "metadata": {
    "collapsed": false
   },
   "outputs": [
    {
     "data": {
      "image/png": "[encoded data removed]",
      "text/plain": [
       "<matplotlib.figure.Figure at 0x10af89208>"
      ]
     },
     "metadata": {},
     "output_type": "display_data"
    }
   ],
   "source": [
    "hist = plt.hist(random_list)"
   ]
  },
  {
   "cell_type": "code",
   "execution_count": 23,
   "metadata": {
    "collapsed": true
   },
   "outputs": [],
   "source": [
    "freqs = hist[0] / n\n",
    "true_freqs = np.array([n / 10] * 10)"
   ]
  },
  {
   "cell_type": "code",
   "execution_count": 24,
   "metadata": {
    "collapsed": false
   },
   "outputs": [
    {
     "name": "stdout",
     "output_type": "stream",
     "text": [
      "Среднее значение: 0.5475376402639281\n",
      "Дисперсия: 0.06756290845569693\n",
      "Критерий хи-квадрат: 999998.0000010001\n"
     ]
    }
   ],
   "source": [
    "print('Среднее значение: {}'.format(np.mean(random_list)))\n",
    "print('Дисперсия: {}'.format(np.std(random_list) ** 2))\n",
    "print('Критерий хи-квадрат: {}'.format(chisquare(freqs, true_freqs)[0]))"
   ]
  },
  {
   "cell_type": "code",
   "execution_count": 25,
   "metadata": {
    "collapsed": false
   },
   "outputs": [
    {
     "name": "stdout",
     "output_type": "stream",
     "text": [
      "Проверка на частоту появления цифр:\n"
     ]
    },
    {
     "data": {
      "text/plain": [
       "{'0': 1416022,\n",
       " '1': 1614372,\n",
       " '2': 1630308,\n",
       " '3': 1649166,\n",
       " '4': 1655654,\n",
       " '5': 1655715,\n",
       " '6': 1657329,\n",
       " '7': 1645135,\n",
       " '8': 1625918,\n",
       " '9': 1610561}"
      ]
     },
     "execution_count": 25,
     "metadata": {},
     "output_type": "execute_result"
    }
   ],
   "source": [
    "print('Проверка на частоту появления цифр:')\n",
    "count_digits(random_list)"
   ]
  },
  {
   "cell_type": "code",
   "execution_count": 26,
   "metadata": {
    "collapsed": false
   },
   "outputs": [
    {
     "name": "stdout",
     "output_type": "stream",
     "text": [
      "Вероятность встретить серию \"66\": 0.155917\n",
      "Вероятность встретить серию \"666\": 0.014521\n",
      "Вероятность встретить серию \"6666\": 0.001308\n"
     ]
    }
   ],
   "source": [
    "print('Вероятность встретить серию \"66\":', count_sequences(random_list, 6, 2) / n)\n",
    "print('Вероятность встретить серию \"666\":', count_sequences(random_list, 6, 3) / n)\n",
    "print('Вероятность встретить серию \"6666\":', count_sequences(random_list, 6, 4) / n)"
   ]
  },
  {
   "cell_type": "markdown",
   "metadata": {},
   "source": [
    "### Линейный конгруэнтный метод"
   ]
  },
  {
   "cell_type": "code",
   "execution_count": 27,
   "metadata": {
    "collapsed": false
   },
   "outputs": [],
   "source": [
    "random_list = []\n",
    "\n",
    "k = 1220703125\n",
    "M = 2e31 - 1\n",
    "b = 7\n",
    "R_prev = 94639741963650385107634578359567\n",
    "\n",
    "\n",
    "for i in range(n):\n",
    "    R = (k * R_prev + b) % M\n",
    "    random_list.append(make_random_num(exp_to_int(R)))\n",
    "    R_prev = R"
   ]
  },
  {
   "cell_type": "code",
   "execution_count": 28,
   "metadata": {
    "collapsed": false
   },
   "outputs": [
    {
     "data": {
      "image/png": "[encoded data removed]",
      "text/plain": [
       "<matplotlib.figure.Figure at 0x10c1bc0f0>"
      ]
     },
     "metadata": {},
     "output_type": "display_data"
    }
   ],
   "source": [
    "hist = plt.hist(random_list)"
   ]
  },
  {
   "cell_type": "code",
   "execution_count": 29,
   "metadata": {
    "collapsed": true
   },
   "outputs": [],
   "source": [
    "freqs = hist[0] / n\n",
    "true_freqs = np.array([n / 10] * 10)"
   ]
  },
  {
   "cell_type": "code",
   "execution_count": 30,
   "metadata": {
    "collapsed": false
   },
   "outputs": [
    {
     "name": "stdout",
     "output_type": "stream",
     "text": [
      "Среднее значение: 0.5497467650242245\n",
      "Дисперсия: 0.06741044345081976\n",
      "Критерий хи-квадрат: 999998.0000009999\n"
     ]
    }
   ],
   "source": [
    "print('Среднее значение: {}'.format(np.mean(random_list)))\n",
    "print('Дисперсия: {}'.format(np.std(random_list) ** 2))\n",
    "print('Критерий хи-квадрат: {}'.format(chisquare(freqs, true_freqs)[0]))"
   ]
  },
  {
   "cell_type": "code",
   "execution_count": 31,
   "metadata": {
    "collapsed": false
   },
   "outputs": [
    {
     "name": "stdout",
     "output_type": "stream",
     "text": [
      "Проверка на частоту появления цифр:\n"
     ]
    },
    {
     "data": {
      "text/plain": [
       "{'0': 1413930,\n",
       " '1': 1611279,\n",
       " '2': 1626600,\n",
       " '3': 1648455,\n",
       " '4': 1655990,\n",
       " '5': 1654616,\n",
       " '6': 1656051,\n",
       " '7': 1648583,\n",
       " '8': 1628770,\n",
       " '9': 1612690}"
      ]
     },
     "execution_count": 31,
     "metadata": {},
     "output_type": "execute_result"
    }
   ],
   "source": [
    "print('Проверка на частоту появления цифр:')\n",
    "count_digits(random_list)"
   ]
  },
  {
   "cell_type": "code",
   "execution_count": 32,
   "metadata": {
    "collapsed": false
   },
   "outputs": [
    {
     "name": "stdout",
     "output_type": "stream",
     "text": [
      "Вероятность встретить серию \"66\": 0.155931\n",
      "Вероятность встретить серию \"666\": 0.014598\n",
      "Вероятность встретить серию \"6666\": 0.001326\n"
     ]
    }
   ],
   "source": [
    "print('Вероятность встретить серию \"66\":', count_sequences(random_list, 6, 2) / n)\n",
    "print('Вероятность встретить серию \"666\":', count_sequences(random_list, 6, 3) / n)\n",
    "print('Вероятность встретить серию \"6666\":', count_sequences(random_list, 6, 4) / n)"
   ]
  }
 ],
 "metadata": {
  "anaconda-cloud": {},
  "kernelspec": {
   "display_name": "Python 3",
   "language": "python",
   "name": "python3"
  },
  "language_info": {
   "codemirror_mode": {
    "name": "ipython",
    "version": 3
   },
   "file_extension": ".py",
   "mimetype": "text/x-python",
   "name": "python",
   "nbconvert_exporter": "python",
   "pygments_lexer": "ipython3",
   "version": "3.6.0"
  }
 },
 "nbformat": 4,
 "nbformat_minor": 1
}
