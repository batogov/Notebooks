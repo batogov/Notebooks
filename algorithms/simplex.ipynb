{
 "cells": [
  {
   "cell_type": "markdown",
   "metadata": {},
   "source": [
    "# Симплексный метод решения ЗЛП"
   ]
  },
  {
   "cell_type": "markdown",
   "metadata": {},
   "source": [
    "**Симплекс-метод** – это итеративный процесс направленного решения системы уравнений по шагам, который начинается с опорного решения и в поисках лучшего варианта движется по угловым точкам области допустимого решения, улучшающих значение целевой функции до тех пор, пока целевая функция не достигнет оптимального значения."
   ]
  },
  {
   "cell_type": "markdown",
   "metadata": {},
   "source": [
    "## Реализация симплекс-метода"
   ]
  },
  {
   "cell_type": "code",
   "execution_count": 1,
   "metadata": {
    "collapsed": true
   },
   "outputs": [],
   "source": [
    "import numpy as np\n",
    "import warnings\n",
    "warnings.filterwarnings('ignore')"
   ]
  },
  {
   "cell_type": "code",
   "execution_count": 2,
   "metadata": {
    "collapsed": false
   },
   "outputs": [],
   "source": [
    "def get_base_col_idx(a):\n",
    "    '''\n",
    "    Принимает на вход вектор, среди его отрицательных\n",
    "    элементов ищет максимальный по модулю и возвращает\n",
    "    его индекс\n",
    "    '''\n",
    "    a = np.array(a)\n",
    "    a[a >= 0] = np.nan\n",
    "    return np.nanargmax(np.abs(a))"
   ]
  },
  {
   "cell_type": "code",
   "execution_count": 3,
   "metadata": {
    "collapsed": true
   },
   "outputs": [],
   "source": [
    "def get_base_row_idx(a):\n",
    "    '''\n",
    "    Принимает на вход вектор, среди его положительных\n",
    "    элементов ищет минимальный и возвращает его индекс\n",
    "    '''\n",
    "    a = np.array(a)\n",
    "    a[a <= 0] = np.nan\n",
    "    return np.nanargmin(a)"
   ]
  },
  {
   "cell_type": "code",
   "execution_count": 4,
   "metadata": {
    "collapsed": false
   },
   "outputs": [],
   "source": [
    "def simplex(M):\n",
    "    # цикл пока в нижней строке есть отрицательные элементы\n",
    "    while(len(M[-1][M[-1] < 0]) != 0):\n",
    "        # из отрицательных коэффициентов нижней строки \n",
    "        # выбираем наибольший по абсолютной величине. Индекс\n",
    "        # этого элемента и будет индексом опорного стоблца \n",
    "        base_col_idx = get_base_col_idx(M[-1, :-1])\n",
    "\n",
    "        # в качестве опорной строки берём строку с наименьшим значением\n",
    "        # (последний столбец / опорный столбец)\n",
    "        base_row_idx = get_base_row_idx(M[:-1, -1] / M[:-1, base_col_idx])\n",
    "\n",
    "        # опорная строка и опорный столбец\n",
    "        base_col = M[:, base_col_idx]\n",
    "        base_row = M[base_row_idx]\n",
    "\n",
    "        # опорный элемент\n",
    "        base_elem = M[base_row_idx][base_col_idx]\n",
    "\n",
    "        # пересчёт симплексной таблицы \n",
    "        new_M = []\n",
    "        for i in range(len(M)):\n",
    "            if (i != base_row_idx):\n",
    "                new_M.append(M[i] - (base_row * base_col[i]) / base_elem)\n",
    "            else:\n",
    "                new_M.append(M[i] / base_elem)\n",
    "\n",
    "        M = np.array(new_M)\n",
    "\n",
    "    return M[:, -1]"
   ]
  },
  {
   "cell_type": "markdown",
   "metadata": {},
   "source": [
    "## Проверка"
   ]
  },
  {
   "cell_type": "markdown",
   "metadata": {},
   "source": [
    "Задача описывается следующим образом:"
   ]
  },
  {
   "cell_type": "markdown",
   "metadata": {},
   "source": [
    "$\\left\\{\\begin{matrix}\n",
    "x_1 + x_2 \\leq 550\n",
    "\\\\2x_1 + 3x_2 \\leq 1200\n",
    "\\\\12x_1 + 30x_2 \\leq 9600\n",
    "\\end{matrix}\\right.$"
   ]
  },
  {
   "cell_type": "markdown",
   "metadata": {},
   "source": [
    "$F(x_1, x_2) = 3x_1 + 4x_2 \\rightarrow max$"
   ]
  },
  {
   "cell_type": "markdown",
   "metadata": {},
   "source": [
    "Правильный ответ:"
   ]
  },
  {
   "cell_type": "markdown",
   "metadata": {},
   "source": [
    "$x_1=450, x_2=100$"
   ]
  },
  {
   "cell_type": "markdown",
   "metadata": {},
   "source": [
    "$F(x_1, x_2) = 3 \\cdot 450 + 4 \\cdot 100 = 1750$"
   ]
  },
  {
   "cell_type": "markdown",
   "metadata": {},
   "source": [
    "Составляем симплекс-таблицу:"
   ]
  },
  {
   "cell_type": "code",
   "execution_count": 5,
   "metadata": {
    "collapsed": true
   },
   "outputs": [],
   "source": [
    "M = np.array([[1,   1, 1, 0, 0, 550 ],\n",
    "              [2,   3, 0, 1, 0, 1200],\n",
    "              [12, 30, 0, 0, 1, 9600],\n",
    "              [-3, -4, 0, 0, 0, 0   ]], dtype=float)"
   ]
  },
  {
   "cell_type": "markdown",
   "metadata": {},
   "source": [
    "Результат работы метода:"
   ]
  },
  {
   "cell_type": "code",
   "execution_count": 6,
   "metadata": {
    "collapsed": false
   },
   "outputs": [
    {
     "data": {
      "text/plain": [
       "array([ 1200.,   450.,   100.,  1750.])"
      ]
     },
     "execution_count": 6,
     "metadata": {},
     "output_type": "execute_result"
    }
   ],
   "source": [
    "simplex(M)"
   ]
  },
  {
   "cell_type": "markdown",
   "metadata": {},
   "source": [
    "Метод вернул вектор, второй и третий элементы которого соотвествует оптимальным значениям $x_1$ и $x_2$ соответственно. Последний элемент – значение функции $F(x_1, x_2)$. Полученный результат является правильным, что говорит о корректности работы метода."
   ]
  }
 ],
 "metadata": {
  "anaconda-cloud": {},
  "kernelspec": {
   "display_name": "Python 3",
   "language": "python",
   "name": "python3"
  },
  "language_info": {
   "codemirror_mode": {
    "name": "ipython",
    "version": 3
   },
   "file_extension": ".py",
   "mimetype": "text/x-python",
   "name": "python",
   "nbconvert_exporter": "python",
   "pygments_lexer": "ipython3",
   "version": "3.5.2"
  }
 },
 "nbformat": 4,
 "nbformat_minor": 1
}
