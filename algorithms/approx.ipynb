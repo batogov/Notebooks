{
 "cells": [
  {
   "cell_type": "markdown",
   "metadata": {},
   "source": [
    "# Аппроксимация линейной функцией с помощью МНК"
   ]
  },
  {
   "cell_type": "markdown",
   "metadata": {},
   "source": [
    "## Теория"
   ]
  },
  {
   "cell_type": "markdown",
   "metadata": {},
   "source": [
    "Любая линейная функция может быть записана уравнением:"
   ]
  },
  {
   "cell_type": "markdown",
   "metadata": {},
   "source": [
    "$$y=a \\cdot x+b$$"
   ]
  },
  {
   "cell_type": "markdown",
   "metadata": {},
   "source": [
    "Аппроксимация заключается в отыскании коэффициентов $a$ и $b$ уравнения таких, чтобы все экспериментальные точки лежали наиболее близко к аппроксимирующей прямой."
   ]
  },
  {
   "cell_type": "markdown",
   "metadata": {},
   "source": [
    "С этой целью чаще всего используется метод наименьших квадратов (МНК), суть которого заключается в следующем: сумма квадратов отклонений значения точки от аппроксимирующей точки принимает минимальное значение:"
   ]
  },
  {
   "cell_type": "markdown",
   "metadata": {},
   "source": [
    "$$F(a,b)= \\sum_{i=1}^{n} (y_i-(a \\cdot x_i+b))^2 \\rightarrow min$$"
   ]
  },
  {
   "cell_type": "markdown",
   "metadata": {},
   "source": [
    "Решение поставленной задачи сводится к нахождению экстремума указанной функции двух переменных. С этой целью находим частные производные функции функции по коэффициентам $a$ и $b$ и приравниваем их к нулю:"
   ]
  },
  {
   "cell_type": "markdown",
   "metadata": {},
   "source": [
    "$$\\left\\{\\begin{matrix} \\frac{\\partial F(a,b)}{\\partial a} = -2 \\sum_{i=1}^{n} (y_i-(a \\cdot x_i+b)) \\cdot x_i = 0 \\\\ \\frac{\\partial F(a,b)}{\\partial b} = -2 \\sum_{i=1}^{n} (y_i-(a \\cdot x_i+b)) = 0 \\end{matrix}\\right.$$"
   ]
  },
  {
   "cell_type": "markdown",
   "metadata": {},
   "source": [
    "Решаем полученную систему уравнений и определяем значения коэффициентов:"
   ]
  },
  {
   "cell_type": "markdown",
   "metadata": {},
   "source": [
    "$$\\left\\{\\begin{matrix}\n",
    "a = \\frac{n \\cdot \\sum_{i=1}^{n} x_i \\cdot y_i - \\sum_{i=1}^{n} x_i \\cdot \\sum_{i=1}^{n} y_i}{n \\cdot \\sum_{i=1}^{n} x_i^2 - (\\sum_{i=1}^{n} x_i)^2  }\n",
    "\\\\ b = \\frac{\\sum_{i=1}^{n} y_i - a \\cdot \\sum_{i=1}^{n} x_i}{n}\n",
    "\\end{matrix}\\right.$$"
   ]
  },
  {
   "cell_type": "markdown",
   "metadata": {
    "collapsed": true
   },
   "source": [
    "## Реализация и тест"
   ]
  },
  {
   "cell_type": "code",
   "execution_count": 1,
   "metadata": {
    "collapsed": true
   },
   "outputs": [],
   "source": [
    "import numpy as np\n",
    "import matplotlib.pyplot as plt\n",
    "%matplotlib inline"
   ]
  },
  {
   "cell_type": "code",
   "execution_count": 2,
   "metadata": {
    "collapsed": true
   },
   "outputs": [],
   "source": [
    "def get_approx(x, y):\n",
    "    '''\n",
    "    Принимает на вход два массива точек (x, y) и возвращает\n",
    "    коэффициенты a и b, которые соответствуют прямой, наилучшим\n",
    "    образом апроксимирующей данные точки.\n",
    "    '''\n",
    "    sumx, sumy, sumx2, sumxy = 0, 0, 0, 0\n",
    "    n = len(x)\n",
    "    \n",
    "    for (curr_x, curr_y) in zip(x, y):\n",
    "        sumx += curr_x\n",
    "        sumy += curr_y\n",
    "        sumx2 += curr_x ** 2\n",
    "        sumxy += curr_x * curr_y\n",
    "        \n",
    "    a = (n * sumxy - (sumx * sumy)) / (n * sumx2 - sumx ** 2)\n",
    "    b = (sumy - a * sumx) / n\n",
    "    \n",
    "    return (a, b)"
   ]
  },
  {
   "cell_type": "code",
   "execution_count": 3,
   "metadata": {
    "collapsed": true
   },
   "outputs": [],
   "source": [
    "def get_points(f):\n",
    "    '''\n",
    "    Принимает на вход линейную функцию f и генерирует в соответствии\n",
    "    с ней точки + случайный шум.\n",
    "    '''\n",
    "    x = np.arange(0, 10.5, 0.5)\n",
    "    y = f(x) + np.random.random(len(x)) * 30\n",
    "    return (x, y)"
   ]
  },
  {
   "cell_type": "code",
   "execution_count": 4,
   "metadata": {
    "collapsed": true
   },
   "outputs": [],
   "source": [
    "def get_approx_line(x, y):\n",
    "    '''\n",
    "    Возвращает точки прямой, наилучшим образом апроксимирующей\n",
    "    исходные точки.\n",
    "    '''\n",
    "    a, b = get_approx(x, y)\n",
    "    f = lambda x: a * x + b\n",
    "    x = np.arange(0, 11, 1)\n",
    "    y = f(x)\n",
    "    return(x, y)"
   ]
  },
  {
   "cell_type": "code",
   "execution_count": 6,
   "metadata": {
    "collapsed": false
   },
   "outputs": [
    {
     "data": {
      "image/png": "[encoded data removed]",
      "text/plain": [
       "<matplotlib.figure.Figure at 0x105e72ba8>"
      ]
     },
     "metadata": {},
     "output_type": "display_data"
    }
   ],
   "source": [
    "x, y = get_points(lambda x: 8 * x + 3)\n",
    "plt.scatter(x, y)\n",
    "\n",
    "x_approx, y_approx = get_approx_line(x, y)\n",
    "plot = plt.plot(x_approx, y_approx, c='red')"
   ]
  }
 ],
 "metadata": {
  "kernelspec": {
   "display_name": "Python 3",
   "language": "python",
   "name": "python3"
  },
  "language_info": {
   "codemirror_mode": {
    "name": "ipython",
    "version": 3
   },
   "file_extension": ".py",
   "mimetype": "text/x-python",
   "name": "python",
   "nbconvert_exporter": "python",
   "pygments_lexer": "ipython3",
   "version": "3.5.2"
  }
 },
 "nbformat": 4,
 "nbformat_minor": 1
}
