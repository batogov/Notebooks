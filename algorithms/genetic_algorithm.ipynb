{
 "cells": [
  {
   "cell_type": "markdown",
   "metadata": {},
   "source": [
    "# Генетический алгоритм на примере задачи разбиения"
   ]
  },
  {
   "cell_type": "markdown",
   "metadata": {},
   "source": [
    "## Постановка задачи"
   ]
  },
  {
   "cell_type": "markdown",
   "metadata": {},
   "source": [
    "Задача: разбить исходный массив на два массива таким образом, чтобы суммы элементов полученных массивов были равны."
   ]
  },
  {
   "cell_type": "markdown",
   "metadata": {},
   "source": [
    "Формальное описание задачи: дан исходный массив $W = [w_1, w_2, w_3, ..., w_n]$, найти такие массивы $A\\subset W, B = W \\backslash A$, что $\\sum_{a \\in A} a = \\sum_{b \\in B} b$."
   ]
  },
  {
   "cell_type": "markdown",
   "metadata": {},
   "source": [
    "## Описание решения"
   ]
  },
  {
   "cell_type": "markdown",
   "metadata": {},
   "source": [
    "Схема генетического алгоритма в общем виде выглядит следующим образом:\n",
    "- Кодирование\n",
    "- Генерация\n",
    "- Выбор мутирующих особей\n",
    "- Мутация\n",
    "- Выбор скрещивающихся особей\n",
    "- Скрещивание\n",
    "- Отбор"
   ]
  },
  {
   "cell_type": "markdown",
   "metadata": {},
   "source": [
    "Опишем каждый шаг данной схемы применимо к нашей задаче. На этапе **кодирования** мы определяем то, как будет выглядеть структура наших «особей». В данном случае она будут являться булевым вектором длины вектора $W$, где каждый элемент будет обозначать принадлежность к одному из искомых массивов (True - массив A, False - массив B)."
   ]
  },
  {
   "cell_type": "markdown",
   "metadata": {},
   "source": [
    "На этапе **генерации** мы породим набор из 100 случайно сгенерированных особей. Они будут являться первым поколением особей нашего алгоритма. Все следующие операции будут выполняться в цикле, количество итераций в котором будет равняться необходимому нам количеству поколений."
   ]
  },
  {
   "cell_type": "markdown",
   "metadata": {},
   "source": [
    "На этапе **выбора мутирующих особей** мы выберем некое случайное количество мутирующих особей в текущем поколении, а на этапе **мутации** изменим у каждой из них случаный элемент массива на противоположный."
   ]
  },
  {
   "cell_type": "markdown",
   "metadata": {},
   "source": [
    "Дальше необходимо выполнить **выбор скрещивающихся особей**. Применим функцию приспособленности (которая оценивает насколько хорошо особь «решает» поставленную задачу) к каждой особи и отсортируем их в порядке уменьшения приспособленности. Функция приспособленности устроена таким образом, что возвращает число от 0 (полная неприспособленность) до 1 (максимальная приспособленность - особь представляет собой правильное решение задачи). Пары составляем из соседних особей в отсортированном ряду без наложения (т.е. парами будут особи с порядковыми номерами 1 и 2, 3 и 4 и т.д.)."
   ]
  },
  {
   "cell_type": "markdown",
   "metadata": {},
   "source": [
    "Следующим этапом производим **скрещивание** пар особей. В результате скрещивания двух особей будет получаться одна новая особь, элементы структуры которой будут случайным образом заимствованы от каждого из родителей. Более формально это можно описать следующим образом: элемент структуры с индексом $i$ дочерней особи будет случайно выбран из двух родительских элементов с индексом $i$."
   ]
  },
  {
   "cell_type": "markdown",
   "metadata": {},
   "source": [
    "На этапе **отбора** мы снова отсортируем всех особей в порядке уменьшения их приспособленности и удалим 50 наименее приспособленных особей."
   ]
  },
  {
   "cell_type": "markdown",
   "metadata": {},
   "source": [
    "## Реализация алгоритма"
   ]
  },
  {
   "cell_type": "code",
   "execution_count": 1,
   "metadata": {
    "collapsed": true
   },
   "outputs": [],
   "source": [
    "import random"
   ]
  },
  {
   "cell_type": "code",
   "execution_count": 2,
   "metadata": {
    "collapsed": true
   },
   "outputs": [],
   "source": [
    "def mutation(individ):\n",
    "    '''\n",
    "    Процедура мутации - выбирает случаный элемент особи и\n",
    "    меняет его значение на противоположное\n",
    "    '''\n",
    "    # индекс мутирующего элемента\n",
    "    i = random.randint(0, len(W) - 1)\n",
    "    individ[i] = not individ[i]"
   ]
  },
  {
   "cell_type": "code",
   "execution_count": 3,
   "metadata": {
    "collapsed": true
   },
   "outputs": [],
   "source": [
    "def fitness(individ):\n",
    "    '''\n",
    "    Функция приспособленности. Принимает на вход особь и \n",
    "    возращает её коэффициент приспособленности - число от 0 \n",
    "    (полная неприспособленность) до 1 (максимальная приспособленность)\n",
    "    '''\n",
    "    A_sum = 0\n",
    "    B_sum = 0\n",
    "    \n",
    "    for i in range(len(individ)):\n",
    "        if individ[i]:\n",
    "            A_sum += W[i]\n",
    "        else:\n",
    "            B_sum += W[i]\n",
    "            \n",
    "    return (1 + abs(A_sum - B_sum)) ** (-1)"
   ]
  },
  {
   "cell_type": "code",
   "execution_count": 4,
   "metadata": {
    "collapsed": true
   },
   "outputs": [],
   "source": [
    "def crossover(father, mother):\n",
    "    '''\n",
    "    Функция скрещивания особей. Принимает на вход две родительские\n",
    "    особи и возращает дочернюю особь, элементы структуры которой \n",
    "    будут случайным образом заимствованы от каждого из родителей\n",
    "    '''\n",
    "    child = []\n",
    "    for i in range(len(father)):\n",
    "        flag = bool(random.getrandbits(1))\n",
    "        if flag:\n",
    "            child.append(father[i])\n",
    "        else:\n",
    "            child.append(mother[i])\n",
    "    return child"
   ]
  },
  {
   "cell_type": "code",
   "execution_count": 5,
   "metadata": {
    "collapsed": true
   },
   "outputs": [],
   "source": [
    "def evaluate_result(individ):\n",
    "    '''\n",
    "    Функция проверки результата работы алгоритма. Разбивает исходный\n",
    "    массив на два массива по правилу, которое содержит переданная в\n",
    "    функцию особь, и возвращает суммы элементов этих массивов. Если\n",
    "    суммы равны, то возращает полученные массивы, иначе возвращает 0\n",
    "    '''\n",
    "    A = []\n",
    "    B = []\n",
    "    \n",
    "    A_sum = 0\n",
    "    B_sum = 0\n",
    "    \n",
    "    for i in range(len(individ)):\n",
    "        if individ[i]:\n",
    "            A.append(W[i])\n",
    "            A_sum += W[i]\n",
    "        else:\n",
    "            B.append(W[i])\n",
    "            B_sum += W[i]\n",
    "            \n",
    "    if (A_sum == B_sum):\n",
    "        return (A, B)\n",
    "    else:\n",
    "        return 0"
   ]
  },
  {
   "cell_type": "code",
   "execution_count": 6,
   "metadata": {
    "collapsed": true
   },
   "outputs": [],
   "source": [
    "def make_evolution(W, count_of_generations):\n",
    "    '''\n",
    "    Функция генетического алгоритма. Принимает на вход массив, который \n",
    "    необходимо разбить и количество поколений (циклов генетического\n",
    "    алгоритма). \n",
    "    '''\n",
    "    # массив с особями\n",
    "    population = []\n",
    "    \n",
    "    # первичное заполнение\n",
    "    for i in range(100):\n",
    "        population.append([bool(random.getrandbits(1)) for i in range(len(W))])\n",
    "        \n",
    "    for i in range(count_of_generations):\n",
    "        # число мутирующих особей\n",
    "        mutation_number = random.randint(0, len(population) - 1)\n",
    "        \n",
    "        # индексы мутирующих особей\n",
    "        mutation_indices = random.sample(range(len(population)), mutation_number)\n",
    "\n",
    "        # процедура мутации\n",
    "        for index in mutation_indices:\n",
    "            mutation(population[index])\n",
    "\n",
    "        # сортировка популяции\n",
    "        population = sorted(population, key=fitness, reverse=True)\n",
    "\n",
    "        # скрещивание\n",
    "        children = []\n",
    "        for i in range(0, len(population), 2):\n",
    "            if (i + 1 <= len(population)):\n",
    "                children.append(crossover(population[i], population[i + 1]))\n",
    "        population += children\n",
    "\n",
    "        # сортировка и отбор\n",
    "        population = sorted(population, key=fitness, reverse=True)\n",
    "        population = population[:-50]\n",
    "        \n",
    "    # анализ лучшей особи и вывод результата\n",
    "    best_result = evaluate_result(population[0])\n",
    "    if best_result == 0:\n",
    "        print('Алгоритм не нашёл решения задачи')\n",
    "    else:\n",
    "        print('A:', best_result[0])\n",
    "        print('B:', best_result[1])"
   ]
  },
  {
   "cell_type": "markdown",
   "metadata": {},
   "source": [
    "## Тестирование"
   ]
  },
  {
   "cell_type": "code",
   "execution_count": 7,
   "metadata": {
    "collapsed": true
   },
   "outputs": [],
   "source": [
    "W = [12, 3, 2, 5, 10, 12, 1, 10, 10, 8, 6, 6, 20, 5, 10, 6, 3, 3]"
   ]
  },
  {
   "cell_type": "code",
   "execution_count": 8,
   "metadata": {
    "collapsed": true
   },
   "outputs": [],
   "source": [
    "count_of_generations = 1000"
   ]
  },
  {
   "cell_type": "code",
   "execution_count": 9,
   "metadata": {
    "collapsed": false
   },
   "outputs": [
    {
     "name": "stdout",
     "output_type": "stream",
     "text": [
      "A: [5, 12, 10, 6, 6, 5, 10, 6, 3, 3]\n",
      "B: [12, 3, 2, 10, 1, 10, 8, 20]\n"
     ]
    }
   ],
   "source": [
    "make_evolution(W, count_of_generations)"
   ]
  }
 ],
 "metadata": {
  "anaconda-cloud": {},
  "kernelspec": {
   "display_name": "Python [default]",
   "language": "python",
   "name": "python3"
  },
  "language_info": {
   "codemirror_mode": {
    "name": "ipython",
    "version": 3
   },
   "file_extension": ".py",
   "mimetype": "text/x-python",
   "name": "python",
   "nbconvert_exporter": "python",
   "pygments_lexer": "ipython3",
   "version": "3.5.2"
  }
 },
 "nbformat": 4,
 "nbformat_minor": 1
}
