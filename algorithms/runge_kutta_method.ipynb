{
 "cells": [
  {
   "cell_type": "markdown",
   "metadata": {},
   "source": [
    "# Метод Рунге-Кутты"
   ]
  },
  {
   "cell_type": "markdown",
   "metadata": {},
   "source": [
    "## Реализация метода"
   ]
  },
  {
   "cell_type": "code",
   "execution_count": 1,
   "metadata": {
    "collapsed": true
   },
   "outputs": [],
   "source": [
    "import numpy as np\n",
    "import matplotlib.pyplot as plt\n",
    "import seaborn as sns\n",
    "%matplotlib inline"
   ]
  },
  {
   "cell_type": "code",
   "execution_count": 2,
   "metadata": {
    "collapsed": false
   },
   "outputs": [],
   "source": [
    "def runge_kutta(f, y_0, a, b, h):\n",
    "\n",
    "    x_list = np.arange(a, b + h, h)\n",
    "    y_list = []\n",
    "\n",
    "    y_n = y_0\n",
    "    \n",
    "    for x_n in x_list:\n",
    "        k_1 = f(x_n, y_n)\n",
    "        k_2 = f(x_n + (h / 2), y_n + (h / 2) * k_1)\n",
    "        k_3 = f(x_n + (h / 2), y_n + (h / 2) * k_2)\n",
    "        k_4 = f(x_n + h, y_n + h * k_3)\n",
    "\n",
    "        y_n = y_n + (h / 6) * (k_1 + (2 * k_2) + (2 * k_3) + k_4)\n",
    "        y_list.append(y_n)\n",
    "        \n",
    "    return y_list"
   ]
  },
  {
   "cell_type": "markdown",
   "metadata": {},
   "source": [
    "## Пример решения"
   ]
  },
  {
   "cell_type": "markdown",
   "metadata": {},
   "source": [
    "Вариант по численному решению ОДУ методом Рунге-Кутты (a, b – границы интервала на котором ищем решение, h – шаг сетки, y(0) – начальные условия):"
   ]
  },
  {
   "cell_type": "markdown",
   "metadata": {},
   "source": [
    "$$y' = \\frac{xy}{1+x^2},$$"
   ]
  },
  {
   "cell_type": "markdown",
   "metadata": {},
   "source": [
    "где $y(0)=2, a=0, b=0.5, h=0.05$."
   ]
  },
  {
   "cell_type": "markdown",
   "metadata": {},
   "source": [
    "Аналитическое решение:"
   ]
  },
  {
   "cell_type": "markdown",
   "metadata": {},
   "source": [
    "$$y(x)=2\\sqrt{x^2+1}$$"
   ]
  },
  {
   "cell_type": "code",
   "execution_count": 3,
   "metadata": {
    "collapsed": true
   },
   "outputs": [],
   "source": [
    "def f(x, y):\n",
    "    return (x * y) / (1 + x ** 2)"
   ]
  },
  {
   "cell_type": "markdown",
   "metadata": {},
   "source": [
    "Начальные условия:"
   ]
  },
  {
   "cell_type": "code",
   "execution_count": 4,
   "metadata": {
    "collapsed": true
   },
   "outputs": [],
   "source": [
    "y_0 = 2\n",
    "a = 0\n",
    "b = 0.5\n",
    "h = 0.05"
   ]
  },
  {
   "cell_type": "markdown",
   "metadata": {},
   "source": [
    "Результат работы метода:"
   ]
  },
  {
   "cell_type": "code",
   "execution_count": 5,
   "metadata": {
    "collapsed": false
   },
   "outputs": [
    {
     "data": {
      "text/plain": [
       "[2.0024984400974701,\n",
       " 2.0099751267517272,\n",
       " 2.022374847087776,\n",
       " 2.0396078146706351,\n",
       " 2.0615528263291338,\n",
       " 2.0880613198166031,\n",
       " 2.1189620325461465,\n",
       " 2.1540659495619963,\n",
       " 2.1931712504318637,\n",
       " 2.236068011240488,\n",
       " 2.2825424785369037]"
      ]
     },
     "execution_count": 5,
     "metadata": {},
     "output_type": "execute_result"
    }
   ],
   "source": [
    "result = runge_kutta(f, y_0, a, b, h)\n",
    "result"
   ]
  },
  {
   "cell_type": "markdown",
   "metadata": {},
   "source": [
    "Результат аналитического решения для наших начальних условий:"
   ]
  },
  {
   "cell_type": "code",
   "execution_count": 6,
   "metadata": {
    "collapsed": false
   },
   "outputs": [],
   "source": [
    "def calc_exact_result(a, b, h):\n",
    "    x_list = np.arange(a, b + h, h)\n",
    "    exact_result = []\n",
    "\n",
    "    for x_n in x_list:\n",
    "        exact_result.append(2 * np.sqrt(x_n ** 2 + 1))\n",
    "\n",
    "    return exact_result"
   ]
  },
  {
   "cell_type": "code",
   "execution_count": 7,
   "metadata": {
    "collapsed": false
   },
   "outputs": [
    {
     "data": {
      "text/plain": [
       "[2.0,\n",
       " 2.0024984394500787,\n",
       " 2.0099751242241779,\n",
       " 2.0223748416156684,\n",
       " 2.0396078054371141,\n",
       " 2.0615528128088303,\n",
       " 2.0880613017821101,\n",
       " 2.118962010041709,\n",
       " 2.1540659228538019,\n",
       " 2.1931712199461311,\n",
       " 2.2360679774997898]"
      ]
     },
     "execution_count": 7,
     "metadata": {},
     "output_type": "execute_result"
    }
   ],
   "source": [
    "exact_result = calc_exact_result(a, b, h)\n",
    "exact_result"
   ]
  },
  {
   "cell_type": "markdown",
   "metadata": {},
   "source": [
    "## Сравнение результатов метода Рунге-Кутты и аналитического решения"
   ]
  },
  {
   "cell_type": "code",
   "execution_count": 8,
   "metadata": {
    "collapsed": true
   },
   "outputs": [],
   "source": [
    "x_list = np.arange(a, b + h, h)"
   ]
  },
  {
   "cell_type": "code",
   "execution_count": 9,
   "metadata": {
    "collapsed": false
   },
   "outputs": [
    {
     "data": {
      "image/png": "[encoded data removed]",
      "text/plain": [
       "<matplotlib.figure.Figure at 0x11525f278>"
      ]
     },
     "metadata": {},
     "output_type": "display_data"
    }
   ],
   "source": [
    "fig, ax = plt.subplots()\n",
    "plt.plot(x_list, result, label=\"Runge-Kutta method\")\n",
    "plt.plot(x_list, exact_result, label=\"Exact Result\")\n",
    "legend = plt.legend(loc='center left', bbox_to_anchor=(1, 0.5), frameon=True, borderpad=1, borderaxespad=1)\n",
    "ax.set_ylabel('f(x)')\n",
    "trash = ax.set_xlabel('x')"
   ]
  },
  {
   "cell_type": "markdown",
   "metadata": {},
   "source": [
    "## Анализ ошибок метода Рунге-Кутты"
   ]
  },
  {
   "cell_type": "markdown",
   "metadata": {},
   "source": [
    "Вектор ошибок для начального условия:"
   ]
  },
  {
   "cell_type": "code",
   "execution_count": 10,
   "metadata": {
    "collapsed": false
   },
   "outputs": [
    {
     "name": "stdout",
     "output_type": "stream",
     "text": [
      "[ 0.00249844  0.00747669  0.01239972  0.01723297  0.02194502  0.02650851\n",
      "  0.03090073  0.03510394  0.03910533  0.04289679  0.0464745 ]\n"
     ]
    }
   ],
   "source": [
    "errors = np.abs(np.array(result) - np.array(exact_result))\n",
    "print(errors)"
   ]
  },
  {
   "cell_type": "code",
   "execution_count": 11,
   "metadata": {
    "collapsed": true
   },
   "outputs": [],
   "source": [
    "errors_list = []\n",
    "h_list = np.arange(0.001, 0.5, 0.001)[::-1]"
   ]
  },
  {
   "cell_type": "code",
   "execution_count": 12,
   "metadata": {
    "collapsed": false
   },
   "outputs": [],
   "source": [
    "for each_h in h_list:\n",
    "    result = runge_kutta(f, y_0, a, b, each_h)\n",
    "    \n",
    "    exact_result = calc_exact_result(a, b, each_h)\n",
    "    \n",
    "    errors = np.abs(np.array(result) - np.array(exact_result))\n",
    "    errors_list.append(errors.mean())"
   ]
  },
  {
   "cell_type": "markdown",
   "metadata": {},
   "source": [
    "График зависимости значения ошибки от величины шага в методе Рунге-Кутты:"
   ]
  },
  {
   "cell_type": "code",
   "execution_count": 13,
   "metadata": {
    "collapsed": false
   },
   "outputs": [
    {
     "data": {
      "image/png": "[encoded data removed]",
      "text/plain": [
       "<matplotlib.figure.Figure at 0x1176ae6a0>"
      ]
     },
     "metadata": {},
     "output_type": "display_data"
    }
   ],
   "source": [
    "fig, ax = plt.subplots()\n",
    "plt.plot(h_list, errors_list, label=\"Error line\")\n",
    "plt.xlim(0.5, 0)\n",
    "legend = plt.legend(loc='center left', bbox_to_anchor=(1, 0.5), frameon=True, borderpad=1, borderaxespad=1)\n",
    "ax.set_ylabel('Error')\n",
    "trash = ax.set_xlabel('Step size (h)')"
   ]
  }
 ],
 "metadata": {
  "anaconda-cloud": {},
  "kernelspec": {
   "display_name": "Python 3",
   "language": "python",
   "name": "python3"
  },
  "language_info": {
   "codemirror_mode": {
    "name": "ipython",
    "version": 3
   },
   "file_extension": ".py",
   "mimetype": "text/x-python",
   "name": "python",
   "nbconvert_exporter": "python",
   "pygments_lexer": "ipython3",
   "version": "3.6.0"
  }
 },
 "nbformat": 4,
 "nbformat_minor": 1
}
