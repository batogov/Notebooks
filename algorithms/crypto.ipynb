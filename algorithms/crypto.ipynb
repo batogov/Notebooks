{
 "cells": [
  {
   "cell_type": "markdown",
   "metadata": {},
   "source": [
    "## Шифр Цезаря"
   ]
  },
  {
   "cell_type": "markdown",
   "metadata": {},
   "source": [
    "Шифр Цезаря, также известный как шифр сдвига, код Цезаря или сдвиг Цезаря — один из самых простых и наиболее широко известных методов шифрования."
   ]
  },
  {
   "cell_type": "markdown",
   "metadata": {},
   "source": [
    "Шифр Цезаря — это вид шифра подстановки, в котором каждый символ в открытом тексте заменяется символом, находящимся на некотором постоянном числе позиций левее или правее него в алфавите. Например, в шифре со сдвигом вправо на 3, А была бы заменена на Г, Б станет Д, и так далее."
   ]
  },
  {
   "cell_type": "markdown",
   "metadata": {},
   "source": [
    "Шифр назван в честь римского императора Гая Юлия Цезаря, использовавшего его для секретной переписки со своими генералами."
   ]
  },
  {
   "cell_type": "code",
   "execution_count": 1,
   "metadata": {
    "collapsed": true
   },
   "outputs": [],
   "source": [
    "def caesar_cipher(input_str, k, alphabet, encode_mode=True):\n",
    "    '''\n",
    "    k - ключ (на сколько символов сдвигаем)\n",
    "    encode_mode - если True, то выполняем шифрование, \n",
    "    иначе - дешифровку\n",
    "    '''\n",
    "    \n",
    "    # n - мощность алфавита\n",
    "    n = len(alphabet)\n",
    "    \n",
    "    output_str = ''\n",
    "    \n",
    "    for char in input_str.lower():\n",
    "        if encode_mode:\n",
    "            x = alphabet.index(char)\n",
    "            y = (x + k) % n\n",
    "            output_str += alphabet[y]\n",
    "        else:\n",
    "            y = alphabet.index(char)\n",
    "            x = (y - k + n) % n\n",
    "            output_str += alphabet[x]\n",
    "    \n",
    "    return output_str"
   ]
  },
  {
   "cell_type": "code",
   "execution_count": 2,
   "metadata": {
    "collapsed": true
   },
   "outputs": [],
   "source": [
    "alphabet = 'абвгдеёжзийклмнопрстуфхцчшщъыьэюя'"
   ]
  },
  {
   "cell_type": "code",
   "execution_count": 3,
   "metadata": {
    "collapsed": false
   },
   "outputs": [
    {
     "name": "stdout",
     "output_type": "stream",
     "text": [
      "фэзыя йз зьи ахлш пвёнлш чугрщцкфнлш дцосн, жг еютзм ъгб.\n"
     ]
    }
   ],
   "source": [
    "input_str = 'Съешь же ещё этих мягких французских булок, да выпей чаю.'\n",
    "encoded_str = caesar_cipher(input_str=input_str, k=3, alphabet=alphabet)\n",
    "print(encoded_str)"
   ]
  },
  {
   "cell_type": "code",
   "execution_count": 4,
   "metadata": {
    "collapsed": false
   },
   "outputs": [
    {
     "name": "stdout",
     "output_type": "stream",
     "text": [
      "съешь же ещё этих мягких французских булок, да выпей чаю.\n"
     ]
    }
   ],
   "source": [
    "decoded_str = caesar_cipher(input_str=encoded_str, k=3, alphabet=alphabet, encode_mode=False)\n",
    "print(decoded_str)"
   ]
  }
 ],
 "metadata": {
  "kernelspec": {
   "display_name": "Python 3",
   "language": "python",
   "name": "python3"
  },
  "language_info": {
   "codemirror_mode": {
    "name": "ipython",
    "version": 3
   },
   "file_extension": ".py",
   "mimetype": "text/x-python",
   "name": "python",
   "nbconvert_exporter": "python",
   "pygments_lexer": "ipython3",
   "version": "3.6.0"
  }
 },
 "nbformat": 4,
 "nbformat_minor": 1
}
