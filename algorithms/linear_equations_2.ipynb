{
 "cells": [
  {
   "cell_type": "markdown",
   "metadata": {},
   "source": [
    "# Численные методы решения систем линейных уравнений"
   ]
  },
  {
   "cell_type": "code",
   "execution_count": 1,
   "metadata": {
    "collapsed": false
   },
   "outputs": [],
   "source": [
    "import numpy as np\n",
    "import matplotlib.pyplot as plt\n",
    "import seaborn as sns\n",
    "%matplotlib inline"
   ]
  },
  {
   "cell_type": "markdown",
   "metadata": {},
   "source": [
    "## Метод итерации"
   ]
  },
  {
   "cell_type": "code",
   "execution_count": 2,
   "metadata": {
    "collapsed": false
   },
   "outputs": [],
   "source": [
    "def iterative_method(A, b):\n",
    "    alpha = -A / A.diagonal().reshape(A.shape[0], 1)\n",
    "    np.fill_diagonal(alpha, 0)\n",
    "\n",
    "    beta = b / A.diagonal()\n",
    "\n",
    "    results_list = []\n",
    "    iterations = 0\n",
    "    \n",
    "    x_prev = b\n",
    "    while (1):\n",
    "        x = beta + np.dot(alpha, x_prev)\n",
    "        \n",
    "        results_list.append(x)\n",
    "        iterations += 1\n",
    "        \n",
    "        if np.sum(np.abs(x - x_prev) / np.abs(x)) == 0:\n",
    "            return (x, iterations, results_list)\n",
    "        else:\n",
    "            x_prev = x"
   ]
  },
  {
   "cell_type": "markdown",
   "metadata": {},
   "source": [
    "## Метод Зейделя"
   ]
  },
  {
   "cell_type": "code",
   "execution_count": 3,
   "metadata": {
    "collapsed": true
   },
   "outputs": [],
   "source": [
    "def seidel_method(A, b):\n",
    "    C = np.dot(A.T, A)\n",
    "    d = np.dot(A.T, b)\n",
    "    \n",
    "    alpha = -C / C.diagonal().reshape(C.shape[0], 1)\n",
    "    np.fill_diagonal(alpha, 0)\n",
    "\n",
    "    beta = d / C.diagonal()\n",
    "    \n",
    "    L = np.tril(alpha)\n",
    "    U = np.triu(alpha)\n",
    "    E = np.eye(alpha.shape[0])\n",
    "    \n",
    "    results_list = []\n",
    "    iterations = 0\n",
    "    \n",
    "    x_prev = b\n",
    "    while (1):\n",
    "        first = np.dot(np.linalg.inv(E - L), U) \n",
    "        second = np.dot(np.linalg.inv(E - L), beta)\n",
    "        x = np.dot(first, x_prev) + second\n",
    "        \n",
    "        results_list.append(x)\n",
    "        iterations += 1\n",
    "\n",
    "        if np.sum(np.abs(x - x_prev) / np.abs(x)) == 0:\n",
    "            return (x, iterations, results_list)\n",
    "        else:\n",
    "            x_prev = x"
   ]
  },
  {
   "cell_type": "markdown",
   "metadata": {},
   "source": [
    "## Проверка"
   ]
  },
  {
   "cell_type": "code",
   "execution_count": 4,
   "metadata": {
    "collapsed": true
   },
   "outputs": [],
   "source": [
    "A = np.array([[0.58, 0.29, 0.05],\n",
    "              [0.05, 0.34, 0.1],\n",
    "              [0.2, 0.44, 0.81]], dtype=float)\n",
    "\n",
    "b = np.array([0.02, 0.32, 0.74], dtype=float)"
   ]
  },
  {
   "cell_type": "markdown",
   "metadata": {},
   "source": [
    "### Метод итерации"
   ]
  },
  {
   "cell_type": "code",
   "execution_count": 5,
   "metadata": {
    "collapsed": false
   },
   "outputs": [],
   "source": [
    "result = iterative_method(A, b)\n",
    "answer, iterations, results_list = result[0], result[1], result[2]"
   ]
  },
  {
   "cell_type": "code",
   "execution_count": 6,
   "metadata": {
    "collapsed": false
   },
   "outputs": [
    {
     "name": "stdout",
     "output_type": "stream",
     "text": [
      "Результат: [-0.43360563  0.83875936  0.565021  ]\n"
     ]
    }
   ],
   "source": [
    "print('Результат:', answer)"
   ]
  },
  {
   "cell_type": "code",
   "execution_count": 7,
   "metadata": {
    "collapsed": false
   },
   "outputs": [],
   "source": [
    "line1 = [each_result[0] for each_result in results_list]\n",
    "line2 = [each_result[1] for each_result in results_list]\n",
    "line3 = [each_result[2] for each_result in results_list]"
   ]
  },
  {
   "cell_type": "code",
   "execution_count": 8,
   "metadata": {
    "collapsed": false
   },
   "outputs": [
    {
     "data": {
      "image/png": "[encoded data removed]",
      "text/plain": [
       "<matplotlib.figure.Figure at 0x1152f6ef0>"
      ]
     },
     "metadata": {},
     "output_type": "display_data"
    }
   ],
   "source": [
    "fig, ax = plt.subplots()\n",
    "plt.plot(np.arange(1, iterations + 1), line1, label='x1')\n",
    "plt.plot(np.arange(1, iterations + 1), line2, label='x2')\n",
    "plt.plot(np.arange(1, iterations + 1), line3, label='x3')\n",
    "legend = plt.legend(loc='center left', bbox_to_anchor=(1, 0.5), frameon=True, borderpad=1, borderaxespad=1)\n",
    "ax.set_ylabel('Value')\n",
    "trash = ax.set_xlabel('Iteration')"
   ]
  },
  {
   "cell_type": "markdown",
   "metadata": {},
   "source": [
    "### Метод Зейделя"
   ]
  },
  {
   "cell_type": "code",
   "execution_count": 9,
   "metadata": {
    "collapsed": true
   },
   "outputs": [],
   "source": [
    "result = seidel_method(A, b)\n",
    "answer, iterations, results_list = result[0], result[1], result[2]"
   ]
  },
  {
   "cell_type": "code",
   "execution_count": 10,
   "metadata": {
    "collapsed": false
   },
   "outputs": [
    {
     "name": "stdout",
     "output_type": "stream",
     "text": [
      "Результат: [-0.43360563  0.83875936  0.565021  ]\n"
     ]
    }
   ],
   "source": [
    "print('Результат:', answer)"
   ]
  },
  {
   "cell_type": "code",
   "execution_count": 11,
   "metadata": {
    "collapsed": false
   },
   "outputs": [],
   "source": [
    "line1 = [each_result[0] for each_result in results_list]\n",
    "line2 = [each_result[1] for each_result in results_list]\n",
    "line3 = [each_result[2] for each_result in results_list]"
   ]
  },
  {
   "cell_type": "code",
   "execution_count": 12,
   "metadata": {
    "collapsed": false
   },
   "outputs": [
    {
     "data": {
      "image/png": "[encoded data removed]",
      "text/plain": [
       "<matplotlib.figure.Figure at 0x11539b5c0>"
      ]
     },
     "metadata": {},
     "output_type": "display_data"
    }
   ],
   "source": [
    "fig, ax = plt.subplots()\n",
    "plt.plot(np.arange(1, iterations + 1), line1, label='x1')\n",
    "plt.plot(np.arange(1, iterations + 1), line2, label='x2')\n",
    "plt.plot(np.arange(1, iterations + 1), line3, label='x3')\n",
    "legend = plt.legend(loc='center left', bbox_to_anchor=(1, 0.5), frameon=True, borderpad=1, borderaxespad=1)\n",
    "ax.set_ylabel('Value')\n",
    "trash = ax.set_xlabel('Iteration')"
   ]
  }
 ],
 "metadata": {
  "anaconda-cloud": {},
  "kernelspec": {
   "display_name": "Python 3",
   "language": "python",
   "name": "python3"
  },
  "language_info": {
   "codemirror_mode": {
    "name": "ipython",
    "version": 3
   },
   "file_extension": ".py",
   "mimetype": "text/x-python",
   "name": "python",
   "nbconvert_exporter": "python",
   "pygments_lexer": "ipython3",
   "version": "3.5.2"
  }
 },
 "nbformat": 4,
 "nbformat_minor": 1
}
